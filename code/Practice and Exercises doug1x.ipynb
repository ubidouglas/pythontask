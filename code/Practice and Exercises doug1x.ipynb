{
 "cells": [
  {
   "cell_type": "code",
   "execution_count": 2,
   "id": "1a5126dc",
   "metadata": {},
   "outputs": [
    {
     "ename": "SyntaxError",
     "evalue": "invalid syntax (Temp/ipykernel_1832/2532612141.py, line 31)",
     "output_type": "error",
     "traceback": [
      "\u001b[1;36m  File \u001b[1;32m\"C:\\Users\\user\\AppData\\Local\\Temp/ipykernel_1832/2532612141.py\"\u001b[1;36m, line \u001b[1;32m31\u001b[0m\n\u001b[1;33m    if (student_name in student_list == \"Francis\")\u001b[0m\n\u001b[1;37m                                                  ^\u001b[0m\n\u001b[1;31mSyntaxError\u001b[0m\u001b[1;31m:\u001b[0m invalid syntax\n"
     ]
    }
   ],
   "source": [
    "# Create a sets of variables to store list of 60 students with the following informations; Name, Class, State, LGA, Position, teacher\n",
    "\n",
    "\n",
    "student_name = \"StudentName\"\n",
    "\n",
    "student_class = \"StudentClass\"\n",
    "\n",
    "student_state = \"StudentState\"\n",
    "\n",
    "student_lga = \"StudentLga\"\n",
    "\n",
    "student_position_in_class = \"StudentPositioInClass\"\n",
    "\n",
    "student_teacher = \"StudentTeacher\"\n",
    "\n",
    "\n",
    "# collect the students information and save it\n",
    "\n",
    "\n",
    "student_name = input(\"Enter your name \")\n",
    "\n",
    "\n",
    "# create a list of students to verify their names\n",
    "\n",
    "student_list = [\"Francis\", \"John\", \"Lucy\"]\n",
    "\n",
    "append(Input(\"Enter your name\"))\n",
    "\n",
    "# find a student with call - Francis\n",
    "\n",
    "if (student_name in student_list == \"Francis\")\n",
    "    \n",
    "    print(\"This student is call\" + \" \" + student_name)\n",
    "    \n"
   ]
  },
  {
   "cell_type": "code",
   "execution_count": null,
   "id": "1f4e2c73",
   "metadata": {},
   "outputs": [],
   "source": []
  },
  {
   "cell_type": "code",
   "execution_count": null,
   "id": "fe0dd8ab",
   "metadata": {},
   "outputs": [],
   "source": []
  },
  {
   "cell_type": "code",
   "execution_count": null,
   "id": "004ff25c",
   "metadata": {},
   "outputs": [],
   "source": []
  },
  {
   "cell_type": "code",
   "execution_count": 2,
   "id": "f22b61d6",
   "metadata": {},
   "outputs": [
    {
     "ename": "SyntaxError",
     "evalue": "cannot assign to literal (Temp/ipykernel_1044/2541299889.py, line 3)",
     "output_type": "error",
     "traceback": [
      "\u001b[1;36m  File \u001b[1;32m\"C:\\Users\\user\\AppData\\Local\\Temp/ipykernel_1044/2541299889.py\"\u001b[1;36m, line \u001b[1;32m3\u001b[0m\n\u001b[1;33m    new_list = [4], new_list = [7]\u001b[0m\n\u001b[1;37m                ^\u001b[0m\n\u001b[1;31mSyntaxError\u001b[0m\u001b[1;31m:\u001b[0m cannot assign to literal\n"
     ]
    }
   ],
   "source": [
    "new_list = [3, 5, 13, 19, 20, 32, 12, 34, 96, 78]\n",
    "\n",
    "new_list = [4], new_list = [7]\n",
    "print(new_list)"
   ]
  },
  {
   "cell_type": "code",
   "execution_count": 5,
   "id": "3fad1cda",
   "metadata": {},
   "outputs": [
    {
     "name": "stdout",
     "output_type": "stream",
     "text": [
      "([5], 34, 78)\n"
     ]
    }
   ],
   "source": [
    "# swap this nembers 20 and 34 and 78\n",
    "\n",
    "new_list = [3, 5, 13, 19, 20, 32, 12, 34, 96, 78]\n",
    "\n",
    "new_list = [5],  new_list [7],  new_list [9]\n",
    "\n",
    "print(new_list)"
   ]
  },
  {
   "cell_type": "code",
   "execution_count": null,
   "id": "97d18f8e",
   "metadata": {},
   "outputs": [],
   "source": []
  },
  {
   "cell_type": "code",
   "execution_count": null,
   "id": "e1c31152",
   "metadata": {},
   "outputs": [],
   "source": [
    "# swap the position of the 20 and 34 in the list\n",
    "\n",
    "\n",
    "list = [3, 5, 13, 19, 20, 32, 12, 34, 96, 78]"
   ]
  }
 ],
 "metadata": {
  "kernelspec": {
   "display_name": "Python 3 (ipykernel)",
   "language": "python",
   "name": "python3"
  },
  "language_info": {
   "codemirror_mode": {
    "name": "ipython",
    "version": 3
   },
   "file_extension": ".py",
   "mimetype": "text/x-python",
   "name": "python",
   "nbconvert_exporter": "python",
   "pygments_lexer": "ipython3",
   "version": "3.9.7"
  }
 },
 "nbformat": 4,
 "nbformat_minor": 5
}
