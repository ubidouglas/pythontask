{
 "cells": [
  {
   "cell_type": "code",
   "execution_count": 5,
   "id": "55ac41b1",
   "metadata": {},
   "outputs": [
    {
     "name": "stdout",
     "output_type": "stream",
     "text": [
      "['Orange', 'apple']\n"
     ]
    }
   ],
   "source": [
    "list_strings = [[\"mango\", \"Orange\", \"apple\"], [\"salt\", \"sugar\", \"milk\"], [\"school\", \"church\", \"market\"]]\n",
    "\n",
    "list_string_index = list_strings[0][1:]\n",
    "\n",
    "print(list_string_index)"
   ]
  },
  {
   "cell_type": "code",
   "execution_count": null,
   "id": "1461545d",
   "metadata": {},
   "outputs": [],
   "source": []
  },
  {
   "cell_type": "code",
   "execution_count": null,
   "id": "bb887b1c",
   "metadata": {},
   "outputs": [],
   "source": [
    "# append()\n",
    "remove()\n",
    "add()\n",
    "replace()\n",
    "join()\n"
   ]
  },
  {
   "cell_type": "code",
   "execution_count": 11,
   "id": "e0cb38ea",
   "metadata": {},
   "outputs": [
    {
     "name": "stdout",
     "output_type": "stream",
     "text": [
      "['Francis', 'perry', 'john']\n"
     ]
    }
   ],
   "source": [
    "string_list = []\n",
    "\n",
    "string_list.append(\"Francis\")\n",
    "string_list.append(\"perry\")\n",
    "string_list.append(\"john\")\n",
    "\n",
    "\n",
    "print(string_list)"
   ]
  },
  {
   "cell_type": "code",
   "execution_count": 13,
   "id": "e7f01912",
   "metadata": {},
   "outputs": [
    {
     "name": "stdout",
     "output_type": "stream",
     "text": [
      "[['Francis', 'James'], ['perry', 'sugar'], 'john']\n"
     ]
    }
   ],
   "source": [
    "string_list = []\n",
    "\n",
    "string_list.append([\"Francis\", \"James\"])\n",
    "\n",
    "\n",
    "string_list.append([\"perry\", \"sugar\"])\n",
    "string_list.append(\"john\")\n",
    "\n",
    "\n",
    "print(string_list)"
   ]
  },
  {
   "cell_type": "code",
   "execution_count": 30,
   "id": "25c32e07",
   "metadata": {},
   "outputs": [
    {
     "name": "stdout",
     "output_type": "stream",
     "text": [
      "[['Francis', 'James'], ['perry', 'sugar'], 'johne', 'go']\n"
     ]
    }
   ],
   "source": [
    "string_list = [[\"Francis\", \"James\"], [\"perry\", \"sugar\"], \"johne\"]\n",
    "\n",
    "\n",
    "string_list.append(\"go\")\n",
    "\n",
    "\n",
    "print(string_list)"
   ]
  },
  {
   "cell_type": "code",
   "execution_count": 31,
   "id": "dd845c27",
   "metadata": {},
   "outputs": [
    {
     "name": "stdout",
     "output_type": "stream",
     "text": [
      "this man is going to the market\n"
     ]
    }
   ],
   "source": [
    "# formatted string\n",
    "\n",
    "\n",
    "sentence = \"this man is going\"\n",
    "\n",
    "sentence2 = \"to the market\"\n",
    "\n",
    "\n",
    "print(f\"{sentence} {sentence2}\")"
   ]
  },
  {
   "cell_type": "code",
   "execution_count": 37,
   "id": "fc5b989a",
   "metadata": {},
   "outputs": [
    {
     "name": "stdout",
     "output_type": "stream",
     "text": [
      "this man is going to the market to buy food stuff.\n"
     ]
    }
   ],
   "source": [
    "# formatted string\n",
    "\n",
    "\n",
    "sentence = \"John\"\n",
    "\n",
    "sentence = \"this man is going\"\n",
    "\n",
    "sentence2 = \"to the market\"\n",
    "\n",
    "sentence3 = \"to buy food stuff\"\n",
    "\n",
    "period = '.'\n",
    "\n",
    "\n",
    "print(\"{} {} {}{}\".format(sentence, sentence2, sentence3, period))"
   ]
  },
  {
   "cell_type": "code",
   "execution_count": null,
   "id": "13aa8916",
   "metadata": {},
   "outputs": [],
   "source": [
    "colors = ['Red', 'Blue', 'Green', 'Black', 'White']\n",
    "\n",
    "# Getting the first element\n",
    "first_col = colors[0]\n",
    "# Getting the second element\n",
    "second_col = colors[1]\n",
    "# Getting the last element\n",
    "newest_col = colors[-1]"
   ]
  },
  {
   "cell_type": "code",
   "execution_count": 40,
   "id": "45397570",
   "metadata": {},
   "outputs": [
    {
     "name": "stdout",
     "output_type": "stream",
     "text": [
      "['Yellow', 'White', 'Green', 'Red', 'White']\n"
     ]
    }
   ],
   "source": [
    "colors = ['Red', 'Blue', 'Green', 'Black', 'White']\n",
    "\n",
    "# Changing an element\n",
    "colors[0] = 'Yellow'\n",
    "colors[-2] = 'Red'\n",
    "colors[1] = colors[-1]\n",
    "\n",
    "print(colors)"
   ]
  },
  {
   "cell_type": "code",
   "execution_count": 44,
   "id": "ec236875",
   "metadata": {},
   "outputs": [
    {
     "name": "stdout",
     "output_type": "stream",
     "text": [
      "['Violet', 'Red', 'Purple', 'Blue', 'Green']\n"
     ]
    }
   ],
   "source": [
    "# Adding an element to the end of the list\n",
    "colors.append('Orange')\n",
    "\n",
    "# Starting with an empty list\n",
    "colors = []\n",
    "colors.append('Red')\n",
    "colors.append('Blue')\n",
    "colors.append('Green')\n",
    "\n",
    "\n",
    "# Inserting elements at a particular position\n",
    "colors.insert(0, 'Violet')\n",
    "colors.insert(2, 'Purple')\n",
    "\n",
    "print(colors)"
   ]
  },
  {
   "cell_type": "code",
   "execution_count": 48,
   "id": "32ea4b36",
   "metadata": {},
   "outputs": [
    {
     "name": "stdout",
     "output_type": "stream",
     "text": [
      "['go', 'run', 'come']\n"
     ]
    }
   ],
   "source": [
    "test_list= ['go', 'come']\n",
    "\n",
    "test_list.insert(1, \"run\")\n",
    "\n",
    "print(test_list)"
   ]
  },
  {
   "cell_type": "code",
   "execution_count": 49,
   "id": "a4e84a5f",
   "metadata": {},
   "outputs": [
    {
     "name": "stdout",
     "output_type": "stream",
     "text": [
      "['Red', 'Blue', 'Black', 'White']\n"
     ]
    }
   ],
   "source": [
    "# Deleting an element by its position\n",
    "del colors[-1]\n",
    "# Removing an item by its value\n",
    "\n",
    "colors = ['Red', 'Blue', 'Green', 'Black', 'White']\n",
    "colors.remove('Green')\n",
    "print(colors)"
   ]
  },
  {
   "cell_type": "code",
   "execution_count": 63,
   "id": "f297da09",
   "metadata": {},
   "outputs": [
    {
     "name": "stdout",
     "output_type": "stream",
     "text": [
      "False\n",
      "False\n"
     ]
    }
   ],
   "source": [
    "myString = \"p\"\n",
    "\n",
    "stringList = [\"abc\", \"pynative\", \"xyz\"]\n",
    "\n",
    "print(stringList[1][0] == myString)\n",
    "\n",
    "print(stringList[0] is myString)\n",
    "\n",
    "# == equal"
   ]
  },
  {
   "cell_type": "code",
   "execution_count": 67,
   "id": "5f996a6f",
   "metadata": {},
   "outputs": [
    {
     "name": "stdout",
     "output_type": "stream",
     "text": [
      "elcom PYnative\n"
     ]
    }
   ],
   "source": [
    "str1 = 'Welcome'\n",
    "\n",
    "print (str1[1:6] + ' PYnative')\n"
   ]
  },
  {
   "cell_type": "code",
   "execution_count": 68,
   "id": "da493e08",
   "metadata": {},
   "outputs": [
    {
     "name": "stdout",
     "output_type": "stream",
     "text": [
      "Yna PYnat tive PYnativ PYnativ\n"
     ]
    }
   ],
   "source": [
    "str1 = \"PYnative\"\n",
    "\n",
    "print(str1[1:4], str1[:5], str1[4:], str1[0:-1], str1[:-1])"
   ]
  },
  {
   "cell_type": "code",
   "execution_count": 73,
   "id": "82e416a9",
   "metadata": {},
   "outputs": [
    {
     "name": "stdout",
     "output_type": "stream",
     "text": [
      "this is a string\n"
     ]
    }
   ],
   "source": [
    "str = \"This is a string\";\n",
    "\n",
    "print (str.lower())"
   ]
  },
  {
   "cell_type": "code",
   "execution_count": null,
   "id": "4bd1ac7f",
   "metadata": {},
   "outputs": [],
   "source": []
  }
 ],
 "metadata": {
  "kernelspec": {
   "display_name": "Python 3 (ipykernel)",
   "language": "python",
   "name": "python3"
  },
  "language_info": {
   "codemirror_mode": {
    "name": "ipython",
    "version": 3
   },
   "file_extension": ".py",
   "mimetype": "text/x-python",
   "name": "python",
   "nbconvert_exporter": "python",
   "pygments_lexer": "ipython3",
   "version": "3.9.7"
  }
 },
 "nbformat": 4,
 "nbformat_minor": 5
}
