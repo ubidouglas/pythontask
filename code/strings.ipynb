{
 "cells": [
  {
   "cell_type": "code",
   "execution_count": null,
   "id": "78646160",
   "metadata": {},
   "outputs": [],
   "source": [
    "# Example of a strings \n",
    "\n",
    "\"Francis\"  \"1234455\" '\\/./..' '949588583'\n",
    "\n"
   ]
  },
  {
   "cell_type": "code",
   "execution_count": 1,
   "id": "35817039",
   "metadata": {},
   "outputs": [
    {
     "data": {
      "text/plain": [
       "str"
      ]
     },
     "execution_count": 1,
     "metadata": {},
     "output_type": "execute_result"
    }
   ],
   "source": [
    "type(\"Hello world\")"
   ]
  },
  {
   "cell_type": "code",
   "execution_count": 4,
   "id": "476f79f5",
   "metadata": {},
   "outputs": [
    {
     "name": "stdout",
     "output_type": "stream",
     "text": [
      " WOW ____ NEW   \n"
     ]
    }
   ],
   "source": [
    "user_name = \"Enter your username\"\n",
    "\n",
    "password = ''' hagdue\"'''''''''''''\"ejei\"w2\" '''\n",
    "\n",
    "\n",
    "\n",
    "empty_string = \"\"\n",
    "\n",
    "long_string1 = \" \"\n",
    "\n",
    "long_string = '''so now if I print the long string and I click Run look at that my little weird emoji face is printed.\n",
    "\n",
    "03:07.200 --> 03:14.010\n",
    "So the three single quotes is four long strings that I can keep going on multiple lines for example.\n",
    "\n",
    "03:14.010 --> 03:15.740\n",
    "I can't do this with a single quote.\n",
    "\n",
    "03:15.750 --> 03:21.360\n",
    "You see that the orange color is now gone because python is going to say this is a new line.\n",
    "\n",
    "03:21.360 --> 03:28.080\n",
    "And this is another line and it's going to give me an error because well a caret with a quote doesn't\n",
    "\n",
    "03:28.080 --> 03:29.160\n",
    "mean anything.\n",
    "\n",
    "03:29.160 --> 03:35.640\n",
    "But if we use three single quotes you can see that we can do multi line strings and this is really useful\n",
    "\n",
    "03:35.640 --> 03:39.870\n",
    "if you want to have maybe long sentences and paragraphs.\n",
    "\n",
    "03:39.870 --> 03:46.830\n",
    "Now with a string we use we can do some cool things that we saw in the numbers videos.\n",
    "\n",
    "03:46.920 --> 03:59.170\n",
    "What if I had something like this Let's say I wanted to grab the first name of a user just give my own '''\n",
    "\n",
    "print(long_string)"
   ]
  },
  {
   "cell_type": "code",
   "execution_count": 6,
   "id": "24880164",
   "metadata": {},
   "outputs": [
    {
     "name": "stdout",
     "output_type": "stream",
     "text": [
      "  And while we can do here is three single quotes in a row like this.\n",
      "02:34.430 --> 02:43.640\n",
      "And then here I can just say wow maybe so a pair of eyes of somebody that's really impressed.\n",
      "02:43.640 --> 02:48.640\n",
      "And let's go with a mouth that actually kind of looks like here.\n",
      "02:48.930 --> 02:49.830\n",
      "All right.\n",
      "02:49.910 --> 02:52.520\n",
      "And then I finish it off with three single quotes.\n",
      "02:52.550 --> 03:07.200\n",
      "Again so now if I print the long string and I click Run look at that my little weird emoji face is printed.\n"
     ]
    }
   ],
   "source": [
    "# exercise\n",
    "\n",
    "# And while we can do here is three single quotes in a row like this.\n",
    "# 02:34.430 --> 02:43.640\n",
    "# And then here I can just say wow maybe so a pair of eyes of somebody that's really impressed.\n",
    "# 02:43.640 --> 02:48.640\n",
    "# And let's go with a mouth that actually kind of looks like here.\n",
    "# 02:48.930 --> 02:49.830\n",
    "# All right.\n",
    "# 02:49.910 --> 02:52.520\n",
    "# And then I finish it off with three single quotes.\n",
    "# 02:52.550 --> 03:07.200\n",
    "# Again so now if I print the long string and I click Run look at that my little weird emoji face is printed.\n",
    "\n",
    "\n",
    "# declare a variable string that takes the above characters\n",
    "# variable = value\n",
    "\n",
    "characters_string = '''  And while we can do here is three single quotes in a row like this.\n",
    "02:34.430 --> 02:43.640\n",
    "And then here I can just say wow maybe so a pair of eyes of somebody that's really impressed.\n",
    "02:43.640 --> 02:48.640\n",
    "And let's go with a mouth that actually kind of looks like here.\n",
    "02:48.930 --> 02:49.830\n",
    "All right.\n",
    "02:49.910 --> 02:52.520\n",
    "And then I finish it off with three single quotes.\n",
    "02:52.550 --> 03:07.200\n",
    "Again so now if I print the long string and I click Run look at that my little weird emoji face is printed.'''\n",
    "\n",
    "\n",
    "print(characters_string)"
   ]
  },
  {
   "cell_type": "code",
   "execution_count": 10,
   "id": "8b68dd6c",
   "metadata": {},
   "outputs": [
    {
     "name": "stdout",
     "output_type": "stream",
     "text": [
      "Franmcis 656\n"
     ]
    }
   ],
   "source": [
    "#  plus sign (+) can be use as concatenate (join)\n",
    "empty_string = \"\"\n",
    "space_string = \" \"\n",
    "first_name = \"Franmcis\"\n",
    "last_name = '656'\n",
    "\n",
    "full_name = first_name + \" \" + last_name\n",
    "\n",
    "\n",
    "print(full_name)\n"
   ]
  },
  {
   "cell_type": "code",
   "execution_count": 12,
   "id": "99a1dd21",
   "metadata": {},
   "outputs": [
    {
     "name": "stdout",
     "output_type": "stream",
     "text": [
      " thouodi face is printedN\n"
     ]
    }
   ],
   "source": [
    "# long strings\n",
    "\n",
    "long_str1 = ''' thouodi face is printed'''\n",
    "\n",
    "long_str2 = \"N\"\n",
    "\n",
    "two_together = long_str1 + long_str2\n",
    "\n",
    "\n",
    "print(two_together)\n",
    "\n"
   ]
  },
  {
   "cell_type": "code",
   "execution_count": 18,
   "id": "535846c0",
   "metadata": {},
   "outputs": [
    {
     "name": "stdout",
     "output_type": "stream",
     "text": [
      "Amount:  700\n"
     ]
    }
   ],
   "source": [
    "num_int = 700\n",
    "\n",
    "amount = \"Amount: \"\n",
    "\n",
    "total = amount + ' ' + str(num_int)\n",
    "\n",
    "print(total)"
   ]
  },
  {
   "cell_type": "code",
   "execution_count": 1,
   "id": "f63b1ecc",
   "metadata": {},
   "outputs": [
    {
     "name": "stdout",
     "output_type": "stream",
     "text": [
      "Enter your weight in numbers89\n",
      "178\n"
     ]
    }
   ],
   "source": [
    "# calculator that calculates weight\n",
    "\n",
    "weight = input(\"Enter your weight in numbers\")\n",
    "\n",
    "age = \"2\"\n",
    "\n",
    "total_weight = int(age) * int(weight)\n",
    "\n",
    "print(total_weight)"
   ]
  },
  {
   "cell_type": "code",
   "execution_count": 2,
   "id": "af44e479",
   "metadata": {},
   "outputs": [
    {
     "name": "stdout",
     "output_type": "stream",
     "text": [
      "Enter your weight in numbers89\n",
      "5089\n"
     ]
    }
   ],
   "source": [
    "# join age and weight as a str\n",
    "\n",
    "weight = input(\"Enter your weight in numbers\")\n",
    "\n",
    "age = \"50\"\n",
    "\n",
    "total_weight = age + weight\n",
    "\n",
    "print(total_weight)"
   ]
  },
  {
   "cell_type": "code",
   "execution_count": 25,
   "id": "80aaffdb",
   "metadata": {},
   "outputs": [
    {
     "name": "stdout",
     "output_type": "stream",
     "text": [
      "it\"s\"kind of a'saturday\n"
     ]
    }
   ],
   "source": [
    "weather = \"it\\\"s\\\"kind of a'saturday\"\n",
    "\n",
    "print(weather)"
   ]
  },
  {
   "cell_type": "code",
   "execution_count": 29,
   "id": "26bd748a",
   "metadata": {},
   "outputs": [
    {
     "name": "stdout",
     "output_type": "stream",
     "text": [
      "it\\s\"s\"kind of a'saturday\n"
     ]
    }
   ],
   "source": [
    "weather = \"it\\\"s\\\"kind of a'saturday\"\n",
    "\n",
    "print(weather)"
   ]
  },
  {
   "cell_type": "code",
   "execution_count": 53,
   "id": "49cc33ac",
   "metadata": {},
   "outputs": [
    {
     "name": "stdout",
     "output_type": "stream",
     "text": [
      "\n",
      " \":::\"\t\":::\" \n",
      " \":::\"\t\":::\" \n",
      " \":::\"\t\":::\" \n",
      " \":::\"\t\":::\"\n"
     ]
    }
   ],
   "source": [
    "# print a two table sided board with :::\n",
    "\n",
    "table = \"\\\":::\\\"\\t\\\":::\\\"\"\n",
    "table2 = \"\\\":::\\\"\\t\\\":::\\\"\"\n",
    "print('\\n',table,'\\n',table2,'\\n',table,'\\n',table )\n"
   ]
  },
  {
   "cell_type": "code",
   "execution_count": null,
   "id": "0d37c311",
   "metadata": {},
   "outputs": [],
   "source": [
    "EASCAPE SEQUENCE \n",
    "\n",
    "\\t - tab\n",
    "\\n - new line\n",
    "\\f - format"
   ]
  },
  {
   "cell_type": "code",
   "execution_count": 58,
   "id": "bca70a95",
   "metadata": {},
   "outputs": [
    {
     "name": "stdout",
     "output_type": "stream",
     "text": [
      "Hi john your age is 90\n"
     ]
    }
   ],
   "source": [
    "# formatted strings\n",
    "\n",
    "first_names = \"john\"\n",
    "\n",
    "age = 90\n",
    "\n",
    "print(f\"Hi {first_names} your age is {age}\")\n"
   ]
  },
  {
   "cell_type": "code",
   "execution_count": 61,
   "id": "d58a249d",
   "metadata": {},
   "outputs": [
    {
     "name": "stdout",
     "output_type": "stream",
     "text": [
      "Hi john your age is 90\n"
     ]
    }
   ],
   "source": [
    "# formatted strings\n",
    "\n",
    "first_names = \"john\"\n",
    "\n",
    "age = 90\n",
    "\n",
    "print(\"Hi {} your age is {}\".format(first_names, age))\n"
   ]
  },
  {
   "cell_type": "code",
   "execution_count": 62,
   "id": "0b5281ed",
   "metadata": {},
   "outputs": [
    {
     "name": "stdout",
     "output_type": "stream",
     "text": [
      "edoc ecitcarp ziuq skeeg\n"
     ]
    }
   ],
   "source": [
    "# We are given a string and we need to reverse words of a given string? \"geeks quiz practice code\"\n",
    "\n",
    "words = \"geeks quiz practice code\"\n",
    "\n",
    "reverse_words = words[::-1]\n",
    "\n",
    "print(reverse_words)"
   ]
  },
  {
   "cell_type": "code",
   "execution_count": 68,
   "id": "9685accd",
   "metadata": {},
   "outputs": [
    {
     "name": "stdout",
     "output_type": "stream",
     "text": [
      "geeks quiz practice code\n"
     ]
    }
   ],
   "source": [
    "# We are given a string and we need to reverse words of a given string? \"geeks quiz practice code\"\n",
    "\n",
    "words = \"geeks quiz practice code\"\n",
    "\n",
    "reverse_words = words[6]\n",
    "\n",
    "\n",
    "print(words)"
   ]
  },
  {
   "cell_type": "code",
   "execution_count": null,
   "id": "1e3ed4e1",
   "metadata": {},
   "outputs": [],
   "source": []
  }
 ],
 "metadata": {
  "kernelspec": {
   "display_name": "Python 3 (ipykernel)",
   "language": "python",
   "name": "python3"
  },
  "language_info": {
   "codemirror_mode": {
    "name": "ipython",
    "version": 3
   },
   "file_extension": ".py",
   "mimetype": "text/x-python",
   "name": "python",
   "nbconvert_exporter": "python",
   "pygments_lexer": "ipython3",
   "version": "3.9.7"
  }
 },
 "nbformat": 4,
 "nbformat_minor": 5
}
