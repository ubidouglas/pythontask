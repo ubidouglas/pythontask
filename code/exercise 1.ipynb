{
 "cells": [
  {
   "cell_type": "code",
   "execution_count": null,
   "id": "39e5a4ea",
   "metadata": {},
   "outputs": [],
   "source": [
    "#decorator\n",
    "from time import time\n",
    "def performance(fn):\n",
    "    def wrapper(*args, **kawrgs):\n",
    "        t1 = time()\n",
    "        result = fn(*args, **kawrgs)\n",
    "        t2 = time()\n",
    "        print(f'took {t2-t1} ms')\n",
    "        return result\n",
    "    return wrapper\n",
    "\n",
    "@performance. @auth,@loggin,@sign\n",
    "def long_time():\n",
    "    for i in range(100000000):\n",
    "        i*5\n",
    "        \n",
    "        \n",
    "long_time()    "
   ]
  },
  {
   "cell_type": "code",
   "execution_count": null,
   "id": "a573897d",
   "metadata": {},
   "outputs": [],
   "source": [
    "# error handling, \n",
    "\n",
    "age = input('what is your age? ')\n",
    "print(age)\n"
   ]
  },
  {
   "cell_type": "code",
   "execution_count": null,
   "id": "99d7418c",
   "metadata": {},
   "outputs": [],
   "source": [
    "def special_for(iterable):"
   ]
  },
  {
   "cell_type": "code",
   "execution_count": null,
   "id": "44d4936d",
   "metadata": {},
   "outputs": [],
   "source": []
  },
  {
   "cell_type": "code",
   "execution_count": null,
   "id": "cc5ccd11",
   "metadata": {},
   "outputs": [],
   "source": []
  }
 ],
 "metadata": {
  "kernelspec": {
   "display_name": "Python 3 (ipykernel)",
   "language": "python",
   "name": "python3"
  },
  "language_info": {
   "codemirror_mode": {
    "name": "ipython",
    "version": 3
   },
   "file_extension": ".py",
   "mimetype": "text/x-python",
   "name": "python",
   "nbconvert_exporter": "python",
   "pygments_lexer": "ipython3",
   "version": "3.9.7"
  }
 },
 "nbformat": 4,
 "nbformat_minor": 5
}
