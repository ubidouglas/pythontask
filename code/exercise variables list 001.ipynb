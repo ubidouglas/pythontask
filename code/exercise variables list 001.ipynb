{
 "cells": [
  {
   "cell_type": "code",
   "execution_count": 37,
   "id": "87bc2065",
   "metadata": {},
   "outputs": [
    {
     "name": "stdout",
     "output_type": "stream",
     "text": [
      "Y\n",
      "16\n"
     ]
    }
   ],
   "source": [
    "#what is the output of the following code\n",
    "\n",
    "aList = [\"PYnative\", [4, 8, 12, 16]]\n",
    "\n",
    "print(alist[0][1])\n",
    "print(alist[1][3])"
   ]
  },
  {
   "cell_type": "code",
   "execution_count": 12,
   "id": "1daec4ff",
   "metadata": {},
   "outputs": [
    {
     "name": "stdout",
     "output_type": "stream",
     "text": [
      "[30, 40, 50]\n",
      "[10, 20, 30, 40]\n",
      "[40, 50, 60, 70, 80]\n"
     ]
    }
   ],
   "source": [
    "#what is the following of list operation\n",
    "\n",
    "aList = [10, 20, 30, 40, 50, 60, 70, 80]\n",
    "\n",
    "print(aList[2:5])\n",
    "print(aList[:4])\n",
    "print(aList[3:])"
   ]
  },
  {
   "cell_type": "code",
   "execution_count": 18,
   "id": "4e792d5d",
   "metadata": {},
   "outputs": [
    {
     "name": "stdout",
     "output_type": "stream",
     "text": [
      "[10, 30, 40]\n"
     ]
    }
   ],
   "source": [
    "#what is the output of the following code?\n",
    "\n",
    "sampleList = [10, 20, 30, 40]\n",
    "\n",
    "del sampleList[-3]\n",
    "print(sampleList)"
   ]
  },
  {
   "cell_type": "code",
   "execution_count": 3,
   "id": "7b5456c2",
   "metadata": {},
   "outputs": [
    {
     "name": "stdout",
     "output_type": "stream",
     "text": [
      "[500, 300, 600]\n"
     ]
    }
   ],
   "source": [
    "#using negative slicing indicates starting from the last item\n",
    "\n",
    "list1 = [600, 200, 300, 400, 500]\n",
    "\n",
    "list1 = list1[::-1]\n",
    "\n",
    "print(list1)"
   ]
  },
  {
   "cell_type": "code",
   "execution_count": null,
   "id": "2582a3a9",
   "metadata": {},
   "outputs": [],
   "source": [
    "internet = [\"world francis by countries\" [US],[Uk],[Nigeria]]\n",
    "\n",
    "relevant_from_Nigeria_francis_in_internet = internet[:nigeria]\n",
    "\n",
    "accurate_francis_in Nigeria = relevant_from_Nigeria_francis_in_internet[0]"
   ]
  }
 ],
 "metadata": {
  "kernelspec": {
   "display_name": "Python 3 (ipykernel)",
   "language": "python",
   "name": "python3"
  },
  "language_info": {
   "codemirror_mode": {
    "name": "ipython",
    "version": 3
   },
   "file_extension": ".py",
   "mimetype": "text/x-python",
   "name": "python",
   "nbconvert_exporter": "python",
   "pygments_lexer": "ipython3",
   "version": "3.9.7"
  }
 },
 "nbformat": 4,
 "nbformat_minor": 5
}
