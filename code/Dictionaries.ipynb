{
 "cells": [
  {
   "cell_type": "code",
   "execution_count": 17,
   "id": "73cfed0c",
   "metadata": {},
   "outputs": [
    {
     "name": "stdout",
     "output_type": "stream",
     "text": [
      "{'b': 1, 'group': 'people', 'name': 9068690685}\n"
     ]
    }
   ],
   "source": [
    "# list = [\"francis\", \"people\", 98696959595 ]\n",
    "\n",
    "# list[0]\n",
    "\n",
    "org = {\n",
    "    \n",
    "     'b' : 1,\n",
    "    \"group\" : \"people\",\n",
    "    \"name\" : 9068690685\n",
    "    \n",
    "}\n",
    "\n",
    "print(org)"
   ]
  },
  {
   "cell_type": "code",
   "execution_count": 5,
   "id": "7e7fddd3",
   "metadata": {},
   "outputs": [
    {
     "name": "stdout",
     "output_type": "stream",
     "text": [
      "go\n"
     ]
    }
   ],
   "source": [
    "lst = [3, {\"a\":45, \"b\":50}, 89, \"franvid\", {\"name\":\"go\"}]\n",
    "\n",
    "print(lst[4][\"name\"])"
   ]
  },
  {
   "cell_type": "code",
   "execution_count": 25,
   "id": "95605f5f",
   "metadata": {},
   "outputs": [
    {
     "name": "stdout",
     "output_type": "stream",
     "text": [
      "1\n"
     ]
    }
   ],
   "source": [
    "exm = dict{\n",
    "    45 :[1,2,3,4],\n",
    "    \"a\" : 'francis',\n",
    "\n",
    "}\n",
    "\n",
    "print(exm[45][0])"
   ]
  },
  {
   "cell_type": "code",
   "execution_count": null,
   "id": "6b124314",
   "metadata": {},
   "outputs": [],
   "source": []
  }
 ],
 "metadata": {
  "kernelspec": {
   "display_name": "Python 3 (ipykernel)",
   "language": "python",
   "name": "python3"
  },
  "language_info": {
   "codemirror_mode": {
    "name": "ipython",
    "version": 3
   },
   "file_extension": ".py",
   "mimetype": "text/x-python",
   "name": "python",
   "nbconvert_exporter": "python",
   "pygments_lexer": "ipython3",
   "version": "3.9.7"
  }
 },
 "nbformat": 4,
 "nbformat_minor": 5
}
