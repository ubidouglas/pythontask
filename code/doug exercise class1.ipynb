{
 "cells": [
  {
   "cell_type": "code",
   "execution_count": 31,
   "id": "bffa5b27",
   "metadata": {},
   "outputs": [
    {
     "name": "stdout",
     "output_type": "stream",
     "text": [
      "[44, 32, 5, 12, 0, 35, 20, 1, 4, 9, 56, 22, 34, 24]\n"
     ]
    }
   ],
   "source": [
    "#swap the position of 34 and 20 in the given list using one line of code when you swap make sure the numbers are in lowest to highest number.\n",
    "            #0    1  2  3   4   5   6  7  8  9  10  11  12  13\n",
    "new_list = [44, 32, 5, 12, 0, 35, 20, 1, 4, 9, 56, 22, 34, 24]\n",
    "\n",
    "new_list[-2],  new_list[6]\n",
    "\n",
    "print(new_list)"
   ]
  },
  {
   "cell_type": "code",
   "execution_count": 115,
   "id": "d755315a",
   "metadata": {},
   "outputs": [
    {
     "name": "stdout",
     "output_type": "stream",
     "text": [
      "[44, 32, 5, 12, 0, 35, 34, 1, 4, 9, 56, 22, 4, 24]\n"
     ]
    }
   ],
   "source": [
    "#swap the position of 34 and 20 in the given list using one line of code when you swap make sure the numbers are in lowest to highest number. \n",
    "\n",
    "new_list = [44, 32, 5, 12, 0, 35, 20, 1, 4, 9, 56, 22, 34, 24]\n",
    "\n",
    "new_list[6], new_list[-2] = new_list[-2], new_list[8]\n",
    "\n",
    "print(new_list)"
   ]
  },
  {
   "cell_type": "code",
   "execution_count": 136,
   "id": "0e3c2646",
   "metadata": {},
   "outputs": [
    {
     "name": "stdout",
     "output_type": "stream",
     "text": [
      "[24, 32, 5, 12, 0, 35, 20, 1, 4, 9, 56, 22, 34, 44]\n"
     ]
    }
   ],
   "source": [
    "#swap the position of 44 and 24 in the given list using one line of code\n",
    "\n",
    "new_list = [44, 32, 5, 12, 0, 35, 20, 1, 4, 9, 56, 22, 34, 24]\n",
    "\n",
    "new_list[0], new_list[-1], = new_list[-1], new_list[0]\n",
    "\n",
    "print(new_list)"
   ]
  },
  {
   "cell_type": "code",
   "execution_count": 32,
   "id": "8b6f256a",
   "metadata": {},
   "outputs": [
    {
     "name": "stdout",
     "output_type": "stream",
     "text": [
      "[32, 5, 5, 12, 0, 35, 20, 1, 4, 9, 56, 22, 34, 24]\n"
     ]
    }
   ],
   "source": [
    "#swap the position of 32 and 22 in the given list using one line of code\n",
    "                                        \n",
    "new_list = [44, 32, 5, 12, 0, 35, 20, 1, 4, 9, 56, 22, 34, 24]\n",
    "\n",
    "new_list[13], new_list[0], = new_list[2], new_list[1]\n",
    "\n",
    "print(new_list)"
   ]
  },
  {
   "cell_type": "code",
   "execution_count": 2,
   "id": "05b4b58a",
   "metadata": {},
   "outputs": [
    {
     "name": "stdout",
     "output_type": "stream",
     "text": [
      "[24, 32, 5, 12, 0, 35, 20, 1, 4, 9, 56, 22, 34, 44]\n"
     ]
    }
   ],
   "source": [
    "#swap the position of 32 and 22 in the given list using one line of code\n",
    "#            0                                              13                  \n",
    "new_list = [44, 32, 5, 12, 0, 35, 20, 1, 4, 9, 56, 22, 34, 24]\n",
    "\n",
    "new_list[13], new_list[0], = new_list[0],new_list[13]\n",
    "\n",
    "print(new_list)"
   ]
  },
  {
   "cell_type": "code",
   "execution_count": 3,
   "id": "4ef88b71",
   "metadata": {},
   "outputs": [
    {
     "name": "stdout",
     "output_type": "stream",
     "text": [
      "[44, 24, 5, 12, 0, 35, 20, 1, 4, 9, 56, 22, 34, 32]\n"
     ]
    }
   ],
   "source": [
    "#swap the position of 32 and 24 in the given list using one line of code\n",
    "\n",
    "new_list = [44, 32, 5, 12, 0, 35, 20, 1, 4, 9, 56, 22, 34, 24]\n",
    "\n",
    "new_list[1], new_list[13], = new_list[13], new_list[1]\n",
    "\n",
    "print(new_list)"
   ]
  },
  {
   "cell_type": "code",
   "execution_count": 5,
   "id": "acf67510",
   "metadata": {},
   "outputs": [
    {
     "name": "stdout",
     "output_type": "stream",
     "text": [
      "[44, 24, 56, 12, 0, 35, 20, 1, 4, 9, 5, 22, 34, 32]\n"
     ]
    }
   ],
   "source": [
    "#swap the position of 32 and 24 in the given list using one line of code\n",
    "\n",
    "new_list = [44, 24, 5, 12, 0, 35, 20, 1, 4, 9, 56, 22, 34, 32]\n",
    "\n",
    "new_list[-12], new_list[-4], = new_list[-4], new_list[-12]\n",
    "\n",
    "print(new_list)"
   ]
  },
  {
   "cell_type": "code",
   "execution_count": 8,
   "id": "c1601a3f",
   "metadata": {},
   "outputs": [
    {
     "name": "stdout",
     "output_type": "stream",
     "text": [
      "[[7, 3, 2, 9, 1], [3, 2, 2, 1], [1, 3, 4, 2]]\n"
     ]
    }
   ],
   "source": [
    "new_list = [[1,3,4,2], [3,2,2,1], [7,3,2,9,1]]\n",
    "\n",
    "new_list[0], new_list[2] = new_list[2], new_list[0]\n",
    "\n",
    "print(new_list)"
   ]
  },
  {
   "cell_type": "code",
   "execution_count": 9,
   "id": "6dcf6599",
   "metadata": {},
   "outputs": [
    {
     "name": "stdout",
     "output_type": "stream",
     "text": [
      "['Lucy', 'James', 'Jim', 'Francis']\n"
     ]
    }
   ],
   "source": [
    "names_of_student = [\"Francis\", \"James\", \"Jim\", \"Lucy\"]\n",
    "\n",
    "names_of_student[0], names_of_student[3] = names_of_student[3], names_of_student[0]\n",
    "\n",
    "print(names_of_student)"
   ]
  },
  {
   "cell_type": "code",
   "execution_count": 11,
   "id": "39470795",
   "metadata": {},
   "outputs": [
    {
     "name": "stdout",
     "output_type": "stream",
     "text": [
      "[['Lucy', 'James'], ['Jim', 'Francis']]\n"
     ]
    }
   ],
   "source": [
    "names_of_student = [[\"Francis\", \"James\"], [\"Jim\" ,\"Lucy\"]]\n",
    "\n",
    "names_of_student[0][0], names_of_student[1][1] = names_of_student[1][1], names_of_student[0][0]\n",
    "\n",
    "print(names_of_student)"
   ]
  },
  {
   "cell_type": "code",
   "execution_count": 32,
   "id": "ec6c61d3",
   "metadata": {},
   "outputs": [
    {
     "name": "stdout",
     "output_type": "stream",
     "text": [
      "Lucy James\n"
     ]
    }
   ],
   "source": [
    "names_of_student = [[\"Francis\", \"James\"], [\"Jim\" ,\"Lucy\"], \"Lucky\", ]\n",
    "\n",
    "student_at_second = names_of_student[1][1]\n",
    "student_at_third = names_of_student[0][1]\n",
    "\n",
    "print(student_at_second, student_at_third)"
   ]
  },
  {
   "cell_type": "code",
   "execution_count": 9,
   "id": "3aee447c",
   "metadata": {},
   "outputs": [
    {
     "name": "stdout",
     "output_type": "stream",
     "text": [
      "apple\n",
      "salt\n",
      "tea\n",
      "groundnut\n"
     ]
    }
   ],
   "source": [
    "# Question: Take the List of the products and print out one product from each sublist\n",
    "\n",
    "products = [['mango', 'orange', 'apple'], ['sugar', 'salt', 'water'], ['tea', 'bread', 'phone'], 'groundnut']\n",
    "\n",
    "first_product_list = products[0][2]\n",
    "second_product_list = products[1][-2]\n",
    "third_product_list = products[2][-3]\n",
    "forth_product_list = products[-1]\n",
    "\n",
    "\n",
    "\n",
    "print(first_product_list)\n",
    "print(second_product_list)\n",
    "print(third_product_list)\n",
    "print(forth_product_list)"
   ]
  },
  {
   "cell_type": "code",
   "execution_count": null,
   "id": "578dfa51",
   "metadata": {},
   "outputs": [],
   "source": [
    "Augmented Assignment Operator\n",
    "=\n",
    "\n",
    "\n",
    "\n",
    "+= addition with =\n",
    "-= substraction with =\n",
    "*=\n",
    "/=\n",
    "%=\n",
    "\n"
   ]
  },
  {
   "cell_type": "code",
   "execution_count": 16,
   "id": "d9bae79c",
   "metadata": {},
   "outputs": [
    {
     "name": "stdout",
     "output_type": "stream",
     "text": [
      "12\n"
     ]
    }
   ],
   "source": [
    "no_of_eggs = 10\n",
    "\n",
    "no_of_eggs += 2\n",
    "\n",
    "print(no_of_eggs)"
   ]
  },
  {
   "cell_type": "code",
   "execution_count": 17,
   "id": "3cb16e23",
   "metadata": {},
   "outputs": [
    {
     "name": "stdout",
     "output_type": "stream",
     "text": [
      "190\n"
     ]
    }
   ],
   "source": [
    "count = 100\n",
    "\n",
    "count +=90\n",
    "\n",
    "print(count)"
   ]
  },
  {
   "cell_type": "code",
   "execution_count": 18,
   "id": "e2d4638e",
   "metadata": {},
   "outputs": [
    {
     "name": "stdout",
     "output_type": "stream",
     "text": [
      "10\n"
     ]
    }
   ],
   "source": [
    "tally = 0\n",
    "\n",
    "\n",
    "tally +=10\n",
    "\n",
    "print(tally)"
   ]
  },
  {
   "cell_type": "code",
   "execution_count": 19,
   "id": "decd2cf5",
   "metadata": {},
   "outputs": [
    {
     "name": "stdout",
     "output_type": "stream",
     "text": [
      "2.0\n"
     ]
    }
   ],
   "source": [
    "tally = 20\n",
    "\n",
    "\n",
    "tally /=10\n",
    "\n",
    "print(tally)"
   ]
  },
  {
   "cell_type": "code",
   "execution_count": 20,
   "id": "1df24e2b",
   "metadata": {},
   "outputs": [
    {
     "name": "stdout",
     "output_type": "stream",
     "text": [
      "9\n"
     ]
    }
   ],
   "source": [
    "multi = 3\n",
    "\n",
    "multi *= 3\n",
    "\n",
    "print(multi)"
   ]
  },
  {
   "cell_type": "code",
   "execution_count": 11,
   "id": "e3472efa",
   "metadata": {},
   "outputs": [
    {
     "name": "stdout",
     "output_type": "stream",
     "text": [
      "francisjohn\n"
     ]
    }
   ],
   "source": [
    "fnames = \"francis\"\n",
    "lname = \"john\"\n",
    "\n",
    "fnames += lname\n",
    "\n",
    "    \n",
    "print(fnames)"
   ]
  },
  {
   "cell_type": "code",
   "execution_count": null,
   "id": "3155effb",
   "metadata": {},
   "outputs": [],
   "source": []
  }
 ],
 "metadata": {
  "kernelspec": {
   "display_name": "Python 3 (ipykernel)",
   "language": "python",
   "name": "python3"
  },
  "language_info": {
   "codemirror_mode": {
    "name": "ipython",
    "version": 3
   },
   "file_extension": ".py",
   "mimetype": "text/x-python",
   "name": "python",
   "nbconvert_exporter": "python",
   "pygments_lexer": "ipython3",
   "version": "3.9.7"
  }
 },
 "nbformat": 4,
 "nbformat_minor": 5
}
