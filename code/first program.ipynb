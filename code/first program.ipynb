{
 "cells": [
  {
   "cell_type": "code",
   "execution_count": 1,
   "id": "5fd484b5",
   "metadata": {},
   "outputs": [
    {
     "name": "stdout",
     "output_type": "stream",
     "text": [
      "testing\n"
     ]
    }
   ],
   "source": [
    "print('testing')"
   ]
  },
  {
   "cell_type": "code",
   "execution_count": 4,
   "id": "cb3393de",
   "metadata": {},
   "outputs": [
    {
     "name": "stdout",
     "output_type": "stream",
     "text": [
      "Type your name:Frank\n",
      "Frank\n"
     ]
    }
   ],
   "source": [
    "name = input(\"Type your name:\")\n",
    "             \n",
    "print(name)\n",
    "      \n"
   ]
  },
  {
   "cell_type": "code",
   "execution_count": 5,
   "id": "7ef22766",
   "metadata": {
    "scrolled": true
   },
   "outputs": [
    {
     "name": "stdout",
     "output_type": "stream",
     "text": [
      "Hello Frank\n"
     ]
    }
   ],
   "source": [
    "print(\"Hello \" + name)"
   ]
  },
  {
   "cell_type": "code",
   "execution_count": null,
   "id": "a009decc",
   "metadata": {},
   "outputs": [],
   "source": [
    "print(\"how are you \" + name)"
   ]
  },
  {
   "cell_type": "code",
   "execution_count": null,
   "id": "943a91de",
   "metadata": {},
   "outputs": [],
   "source": []
  },
  {
   "cell_type": "code",
   "execution_count": 4,
   "id": "a46fc88a",
   "metadata": {},
   "outputs": [
    {
     "name": "stdout",
     "output_type": "stream",
     "text": [
      "Type your name:John\n",
      "Type your age:56\n",
      "Type your gender:male\n",
      "Type your Last name:peter\n",
      "Hi John peter your age is 56 and your gender is male\n"
     ]
    }
   ],
   "source": [
    "name = input(\"Type your name:\")\n",
    "\n",
    "age = input(\"Type your age:\")\n",
    "\n",
    "gender = input(\"Type your gender:\")\n",
    "\n",
    "lastName = input(\"Type your Last name:\")\n",
    "\n",
    "\n",
    "print(\"Hi \" + name + \" \" + lastName + \" \"+ \"your age is \" + age + \" \" + \"and your gender is \" + gender)\n",
    "      \n"
   ]
  },
  {
   "cell_type": "code",
   "execution_count": 1,
   "id": "76774e8d",
   "metadata": {},
   "outputs": [
    {
     "name": "stdout",
     "output_type": "stream",
     "text": [
      "Type your name:Frank\n"
     ]
    }
   ],
   "source": [
    "name = input(\"Type your name:\")\n"
   ]
  },
  {
   "cell_type": "code",
   "execution_count": 1,
   "id": "dd5a8489",
   "metadata": {},
   "outputs": [
    {
     "name": "stdout",
     "output_type": "stream",
     "text": [
      "Type your age:56\n"
     ]
    }
   ],
   "source": [
    "age = input(\"Type your age:\")\n"
   ]
  },
  {
   "cell_type": "code",
   "execution_count": 11,
   "id": "65c8826e",
   "metadata": {},
   "outputs": [
    {
     "ename": "NameError",
     "evalue": "name 'newemployee' is not defined",
     "output_type": "error",
     "traceback": [
      "\u001b[1;31m---------------------------------------------------------------------------\u001b[0m",
      "\u001b[1;31mNameError\u001b[0m                                 Traceback (most recent call last)",
      "\u001b[1;32m~\\AppData\\Local\\Temp/ipykernel_1964/3560413205.py\u001b[0m in \u001b[0;36m<module>\u001b[1;34m\u001b[0m\n\u001b[0;32m      3\u001b[0m \u001b[1;33m\u001b[0m\u001b[0m\n\u001b[0;32m      4\u001b[0m \u001b[1;33m\u001b[0m\u001b[0m\n\u001b[1;32m----> 5\u001b[1;33m \u001b[0mtotalwokers\u001b[0m \u001b[1;33m=\u001b[0m \u001b[0msum\u001b[0m\u001b[1;33m(\u001b[0m\u001b[0mnewemployee\u001b[0m\u001b[1;33m,\u001b[0m \u001b[0moldemployee\u001b[0m\u001b[1;33m)\u001b[0m\u001b[1;33m\u001b[0m\u001b[1;33m\u001b[0m\u001b[0m\n\u001b[0m\u001b[0;32m      6\u001b[0m \u001b[1;33m\u001b[0m\u001b[0m\n\u001b[0;32m      7\u001b[0m \u001b[1;33m\u001b[0m\u001b[0m\n",
      "\u001b[1;31mNameError\u001b[0m: name 'newemployee' is not defined"
     ]
    }
   ],
   "source": [
    "newEmployee = 67\n",
    "OldEmployee = 90\n",
    "\n",
    "\n",
    "totalwokers = sum(newemployee, oldemployee)\n",
    "\n",
    "\n",
    "print(totalwokers)"
   ]
  },
  {
   "cell_type": "code",
   "execution_count": 11,
   "id": "197a00ec",
   "metadata": {},
   "outputs": [
    {
     "name": "stdout",
     "output_type": "stream",
     "text": [
      "6\n",
      "-2\n",
      "8\n",
      "0.5\n"
     ]
    }
   ],
   "source": [
    "#INTERGERS\n",
    "\n",
    "print(2 + 4)\n",
    "print(2 - 4)\n",
    "print(2 * 4)\n",
    "print(2 / 4)"
   ]
  },
  {
   "cell_type": "code",
   "execution_count": 22,
   "id": "5f44c002",
   "metadata": {},
   "outputs": [
    {
     "data": {
      "text/plain": [
       "float"
      ]
     },
     "execution_count": 22,
     "metadata": {},
     "output_type": "execute_result"
    }
   ],
   "source": [
    "type(0.0)"
   ]
  },
  {
   "cell_type": "code",
   "execution_count": 19,
   "id": "ec6ddd1c",
   "metadata": {},
   "outputs": [
    {
     "data": {
      "text/plain": [
       "float"
      ]
     },
     "execution_count": 19,
     "metadata": {},
     "output_type": "execute_result"
    }
   ],
   "source": [
    "type(2 / 4)"
   ]
  },
  {
   "cell_type": "code",
   "execution_count": 23,
   "id": "f159e691",
   "metadata": {},
   "outputs": [
    {
     "data": {
      "text/plain": [
       "int"
      ]
     },
     "execution_count": 23,
     "metadata": {},
     "output_type": "execute_result"
    }
   ],
   "source": [
    "type(2 + 4)\n",
    "type(2 - 4)\n",
    "type(2 * 4)\n",
    "type(2 // 4)"
   ]
  },
  {
   "cell_type": "code",
   "execution_count": 15,
   "id": "fb6b28c5",
   "metadata": {},
   "outputs": [
    {
     "data": {
      "text/plain": [
       "str"
      ]
     },
     "execution_count": 15,
     "metadata": {},
     "output_type": "execute_result"
    }
   ],
   "source": [
    "type(\"FRANCIS\")"
   ]
  },
  {
   "cell_type": "code",
   "execution_count": 16,
   "id": "5a6dd160",
   "metadata": {},
   "outputs": [
    {
     "data": {
      "text/plain": [
       "bool"
      ]
     },
     "execution_count": 16,
     "metadata": {},
     "output_type": "execute_result"
    }
   ],
   "source": [
    "type(True)"
   ]
  },
  {
   "cell_type": "code",
   "execution_count": 26,
   "id": "342386f0",
   "metadata": {},
   "outputs": [
    {
     "data": {
      "text/plain": [
       "0"
      ]
     },
     "execution_count": 26,
     "metadata": {},
     "output_type": "execute_result"
    }
   ],
   "source": [
    "26 // 34\n",
    "\n",
    "9 + 0\n",
    "\n",
    "0 * 34\n",
    "\n",
    "34.32 + 2.0\n",
    "\n",
    "0 * 0\n",
    "\n"
   ]
  },
  {
   "cell_type": "code",
   "execution_count": 27,
   "id": "bd58011b",
   "metadata": {},
   "outputs": [
    {
     "data": {
      "text/plain": [
       "int"
      ]
     },
     "execution_count": 27,
     "metadata": {},
     "output_type": "execute_result"
    }
   ],
   "source": [
    "type(9 + 0)"
   ]
  },
  {
   "cell_type": "code",
   "execution_count": 28,
   "id": "6cc11dfd",
   "metadata": {},
   "outputs": [
    {
     "data": {
      "text/plain": [
       "int"
      ]
     },
     "execution_count": 28,
     "metadata": {},
     "output_type": "execute_result"
    }
   ],
   "source": [
    "type(0 + 34)"
   ]
  },
  {
   "cell_type": "code",
   "execution_count": 31,
   "id": "e35a8f8a",
   "metadata": {},
   "outputs": [
    {
     "data": {
      "text/plain": [
       "int"
      ]
     },
     "execution_count": 31,
     "metadata": {},
     "output_type": "execute_result"
    }
   ],
   "source": [
    "type(26 // 34)"
   ]
  },
  {
   "cell_type": "code",
   "execution_count": 32,
   "id": "17b25ae9",
   "metadata": {},
   "outputs": [
    {
     "data": {
      "text/plain": [
       "float"
      ]
     },
     "execution_count": 32,
     "metadata": {},
     "output_type": "execute_result"
    }
   ],
   "source": [
    "type(34.32 + 2.0)"
   ]
  },
  {
   "cell_type": "code",
   "execution_count": 33,
   "id": "bca62f92",
   "metadata": {},
   "outputs": [
    {
     "data": {
      "text/plain": [
       "int"
      ]
     },
     "execution_count": 33,
     "metadata": {},
     "output_type": "execute_result"
    }
   ],
   "source": [
    "type(0 * 0)"
   ]
  },
  {
   "cell_type": "code",
   "execution_count": 36,
   "id": "026a2749",
   "metadata": {},
   "outputs": [
    {
     "data": {
      "text/plain": [
       "float"
      ]
     },
     "execution_count": 36,
     "metadata": {},
     "output_type": "execute_result"
    }
   ],
   "source": [
    "type(6.5 % 4)"
   ]
  },
  {
   "cell_type": "code",
   "execution_count": null,
   "id": "4d1a82bd",
   "metadata": {},
   "outputs": [],
   "source": [
    "math functions\n",
    "\n",
    "round(9.5)\n",
    "sum(9)\n",
    "substract()\n",
    "abs(-78.89)\n",
    "\n"
   ]
  },
  {
   "cell_type": "code",
   "execution_count": 37,
   "id": "364953ed",
   "metadata": {},
   "outputs": [
    {
     "name": "stdout",
     "output_type": "stream",
     "text": [
      "8\n"
     ]
    }
   ],
   "source": [
    "print(20 - 3 * 4)"
   ]
  },
  {
   "cell_type": "code",
   "execution_count": 37,
   "id": "238562c8",
   "metadata": {},
   "outputs": [
    {
     "name": "stdout",
     "output_type": "stream",
     "text": [
      "8\n"
     ]
    }
   ],
   "source": [
    "print( (3 + 4 ) + 5**2)"
   ]
  },
  {
   "cell_type": "code",
   "execution_count": 38,
   "id": "7dec6356",
   "metadata": {},
   "outputs": [
    {
     "name": "stdout",
     "output_type": "stream",
     "text": [
      "-8\n"
     ]
    }
   ],
   "source": [
    "print(3*4 -20)"
   ]
  },
  {
   "cell_type": "code",
   "execution_count": 43,
   "id": "c620529f",
   "metadata": {},
   "outputs": [
    {
     "data": {
      "text/plain": [
       "'0b110011000000110'"
      ]
     },
     "execution_count": 43,
     "metadata": {},
     "output_type": "execute_result"
    }
   ],
   "source": [
    "bin(26118)"
   ]
  },
  {
   "cell_type": "code",
   "execution_count": 44,
   "id": "3a77bd59",
   "metadata": {},
   "outputs": [
    {
     "data": {
      "text/plain": [
       "'0b101'"
      ]
     },
     "execution_count": 44,
     "metadata": {},
     "output_type": "execute_result"
    }
   ],
   "source": [
    "bin(5)"
   ]
  },
  {
   "cell_type": "code",
   "execution_count": 45,
   "id": "3964fa47",
   "metadata": {},
   "outputs": [
    {
     "data": {
      "text/plain": [
       "5"
      ]
     },
     "execution_count": 45,
     "metadata": {},
     "output_type": "execute_result"
    }
   ],
   "source": [
    "int(\"0b101\", 2)"
   ]
  },
  {
   "cell_type": "code",
   "execution_count": 47,
   "id": "d3db5511",
   "metadata": {},
   "outputs": [
    {
     "data": {
      "text/plain": [
       "26174"
      ]
     },
     "execution_count": 47,
     "metadata": {},
     "output_type": "execute_result"
    }
   ],
   "source": [
    "int('0b110011000111110', 2)"
   ]
  },
  {
   "cell_type": "code",
   "execution_count": null,
   "id": "1924a71a",
   "metadata": {},
   "outputs": [],
   "source": [
    "snake_50_case = 90\n",
    "\n",
    "snake_case = 90\n",
    "\n",
    "snakeCaseFire\n",
    "\n",
    "PascalCaseFire\n",
    "\n",
    "FIRE_CASE\n",
    "\n",
    "lagos_alapere_"
   ]
  },
  {
   "cell_type": "code",
   "execution_count": 49,
   "id": "c0955079",
   "metadata": {},
   "outputs": [
    {
     "name": "stdout",
     "output_type": "stream",
     "text": [
      "23\n"
     ]
    }
   ],
   "source": [
    "gt =23\n",
    "print(gt)"
   ]
  },
  {
   "cell_type": "code",
   "execution_count": 50,
   "id": "aec97c75",
   "metadata": {},
   "outputs": [
    {
     "name": "stdout",
     "output_type": "stream",
     "text": [
      "200\n"
     ]
    }
   ],
   "source": [
    "iq = 190\n",
    "iq = iq + 10\n",
    "\n",
    "print(iq)"
   ]
  },
  {
   "cell_type": "code",
   "execution_count": 53,
   "id": "8b6af5fd",
   "metadata": {},
   "outputs": [
    {
     "name": "stdout",
     "output_type": "stream",
     "text": [
      "4.14\n"
     ]
    }
   ],
   "source": [
    "PI =3.14\n",
    "\n",
    "PI =4.14\n",
    "\n",
    "print(PI)"
   ]
  },
  {
   "cell_type": "code",
   "execution_count": null,
   "id": "dfa58df5",
   "metadata": {},
   "outputs": [],
   "source": [
    "NAME ="
   ]
  },
  {
   "cell_type": "code",
   "execution_count": 54,
   "id": "a7cb808b",
   "metadata": {},
   "outputs": [
    {
     "name": "stdout",
     "output_type": "stream",
     "text": [
      "john\n"
     ]
    }
   ],
   "source": [
    "\n",
    "a,b,c = 1,2, 3\n",
    "\n",
    "name,age,gender = \"john\", 45, \"female\"\n",
    "\n",
    "print(name)"
   ]
  },
  {
   "cell_type": "code",
   "execution_count": 57,
   "id": "bc52f8ef",
   "metadata": {},
   "outputs": [
    {
     "name": "stdout",
     "output_type": "stream",
     "text": [
      "Enter your first nameJames\n",
      "Enter your last nameHouse\n",
      "Enter your state of originlagos\n",
      "Enter your countryNigeria\n",
      "Enter your phone number939484943\n",
      "Your Details are; James House  lagos Nigeria 939484943\n"
     ]
    }
   ],
   "source": [
    "# EXERCISE: create a program that collect the following user details on a form, \n",
    "#     store the details and display each details on a new line.\n",
    "\n",
    "first_name = input(\"Enter your first name\")\n",
    "\n",
    "last_name = input('Enter your last name')\n",
    "\n",
    "state_of_origin = input(\"Enter your state of origin\")\n",
    "\n",
    "country = input(\"Enter your country\")\n",
    "\n",
    "phone_number = input(\"Enter your phone number\")\n",
    "\n",
    "print('Your Details are; ' + first_name + \" \" +last_name + \" \" +\" \" + state_of_origin + \" \" + country + \" \" + phone_number)"
   ]
  },
  {
   "cell_type": "code",
   "execution_count": 57,
   "id": "66634ba6",
   "metadata": {},
   "outputs": [
    {
     "name": "stdout",
     "output_type": "stream",
     "text": [
      "Enter your first nameJames\n",
      "Enter your last nameHouse\n",
      "Enter your state of originlagos\n",
      "Enter your countryNigeria\n",
      "Enter your phone number939484943\n",
      "Your Details are; James House  lagos Nigeria 939484943\n"
     ]
    }
   ],
   "source": [
    "# EXERCISE: create a program that collect the following user details on a form, \n",
    "#     store the details\n",
    "\n",
    "first_name = input(\"Enter your first name\")\n",
    "\n",
    "last_name = input('Enter your last name')\n",
    "\n",
    "state_of_origin = input(\"Enter your state of origin\")\n",
    "\n",
    "country = input(\"Enter your country\")\n",
    "\n",
    "phone_number = input(\"Enter your phone number\")"
   ]
  },
  {
   "cell_type": "code",
   "execution_count": 63,
   "id": "92dc4769",
   "metadata": {},
   "outputs": [],
   "source": [
    "new_list = [10, 35, 9, 56, 12]\n",
    "\n"
   ]
  },
  {
   "cell_type": "code",
   "execution_count": 64,
   "id": "5a1c3ee1",
   "metadata": {},
   "outputs": [
    {
     "name": "stdout",
     "output_type": "stream",
     "text": [
      "[12, 35, 9, 56, 10]\n"
     ]
    }
   ],
   "source": [
    "new_list[0], new_list[-1] = new_list[-1], new_list[0]\n",
    "\n",
    "print(new_list)"
   ]
  },
  {
   "cell_type": "code",
   "execution_count": 20,
   "id": "4e4ff383",
   "metadata": {},
   "outputs": [
    {
     "name": "stdout",
     "output_type": "stream",
     "text": [
      "[19, 65, 23, 90]\n"
     ]
    }
   ],
   "source": [
    "# EXERCISE 2\n",
    "\n",
    "#  swap the two elements in the list pos 3 = 1, pos 1 = 3\n",
    "#             0   1    2  3\n",
    "new_list = [23, 65, 19, 90] \n",
    "    \n",
    "new_list[2], new_list[0] = new_list[0], new_list[2]\n",
    "\n",
    "print(new_list)\n"
   ]
  },
  {
   "cell_type": "code",
   "execution_count": null,
   "id": "1709ce75",
   "metadata": {},
   "outputs": [],
   "source": [
    "snake_case \n",
    "\n",
    "camelCase \n",
    "PascalCase\n",
    "\n",
    "CONSTANTS\n",
    "\n",
    "variable name\n",
    "\n",
    "variable values\n",
    "\n",
    "Assignment operator (=)\n",
    "\n"
   ]
  },
  {
   "cell_type": "code",
   "execution_count": null,
   "id": "15686852",
   "metadata": {},
   "outputs": [],
   "source": [
    "father = \"string\"\n",
    "\n",
    "amount = 234\n",
    "\n",
    "div = 298.43\n",
    "\n",
    "yes = True\n",
    "\n",
    "list = [2,3,3,3,2,]\n",
    "\n",
    "dict = (\"Fans\", \"go\", \"come\")\n",
    "\n",
    "tuple = {3,4,25,5,}\n",
    "\n"
   ]
  },
  {
   "cell_type": "code",
   "execution_count": null,
   "id": "dbdc8f2b",
   "metadata": {},
   "outputs": [],
   "source": [
    "CONTACT = \"822939939\"\n",
    "\n",
    "__firstline__ = main\n",
    "\n"
   ]
  },
  {
   "cell_type": "code",
   "execution_count": null,
   "id": "bd236729",
   "metadata": {},
   "outputs": [],
   "source": []
  }
 ],
 "metadata": {
  "kernelspec": {
   "display_name": "Python 3 (ipykernel)",
   "language": "python",
   "name": "python3"
  },
  "language_info": {
   "codemirror_mode": {
    "name": "ipython",
    "version": 3
   },
   "file_extension": ".py",
   "mimetype": "text/x-python",
   "name": "python",
   "nbconvert_exporter": "python",
   "pygments_lexer": "ipython3",
   "version": "3.9.7"
  }
 },
 "nbformat": 4,
 "nbformat_minor": 5
}
