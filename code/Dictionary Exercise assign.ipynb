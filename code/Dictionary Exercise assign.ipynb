{
 "cells": [
  {
   "cell_type": "code",
   "execution_count": 38,
   "id": "ee650f44",
   "metadata": {},
   "outputs": [
    {
     "name": "stdout",
     "output_type": "stream",
     "text": [
      "{'name': 'Emma', 'class': 9, 'marks': 75}\n"
     ]
    }
   ],
   "source": [
    "#select the correct ways to get the value of key.\n",
    "student = {\n",
    "    \"name\": \"Emma\",\n",
    "    \"class\" : 9,\n",
    "    \"marks\" : 75\n",
    "}\n",
    "\n",
    "print(student)"
   ]
  },
  {
   "cell_type": "code",
   "execution_count": 33,
   "id": "022a439a",
   "metadata": {},
   "outputs": [
    {
     "name": "stdout",
     "output_type": "stream",
     "text": [
      "27\n"
     ]
    }
   ],
   "source": [
    "#select the correct way to price Emma's age\n",
    "student = {1: \n",
    "           {'name' : 'Emma',\n",
    "           'age' : '27',\n",
    "           'sex' : 'female'},\n",
    "           2:\n",
    "            {'name' : 'mike',\n",
    "             'age' : '22', \n",
    "             'sex' : 'male',}}\n",
    "print(student[1][\"age\"])"
   ]
  },
  {
   "cell_type": "code",
   "execution_count": 3,
   "id": "321fc51b",
   "metadata": {},
   "outputs": [
    {
     "name": "stdout",
     "output_type": "stream",
     "text": [
      "80\n"
     ]
    }
   ],
   "source": [
    "#select the correct way to access the value of a history subject\n",
    "sampleDict = {\n",
    "    \"class\":{\n",
    "        \"student\":{\n",
    "            \"name\" : \"mike\",\n",
    "            \"mark\":{\n",
    "                \"physics\":70,\n",
    "                \"history\":80\n",
    "            }\n",
    "        }\n",
    "    }\n",
    "}\n",
    "print(sampleDict[\"class\"][\"student\"][\"mark\"][\"history\"])"
   ]
  },
  {
   "cell_type": "code",
   "execution_count": 18,
   "id": "7852ea76",
   "metadata": {},
   "outputs": [
    {
     "name": "stdout",
     "output_type": "stream",
     "text": [
      "80\n"
     ]
    }
   ],
   "source": [
    "#print the value of key 'history' from the below dict\n",
    "\n",
    "sampleDict = {\n",
    "    \"class\": {\n",
    "        \"student\": { \n",
    "            \"name\": \"mike\",\n",
    "                \"mark\": {\n",
    "                    \"physics\":70,\n",
    "                    \"history\":80\n",
    "                }\n",
    "            }\n",
    "        }\n",
    "    }\n",
    "\n",
    "\n",
    "print(sampleDict[\"class\"][\"student\"][\"mark\"][\"history\"])"
   ]
  },
  {
   "cell_type": "code",
   "execution_count": 21,
   "id": "dfc22498",
   "metadata": {},
   "outputs": [
    {
     "name": "stdout",
     "output_type": "stream",
     "text": [
      "{'first': 1, 'second': 2, 'third': 3}\n"
     ]
    }
   ],
   "source": [
    "#what is the output of the following \n",
    "\n",
    "sampleDict = dict([\n",
    "    ('first', 1),\n",
    "    ('second', 2),\n",
    "    ('third', 3)\n",
    "])\n",
    "\n",
    "print(sampleDict)"
   ]
  },
  {
   "cell_type": "code",
   "execution_count": 22,
   "id": "9f94bc18",
   "metadata": {},
   "outputs": [
    {
     "name": "stdout",
     "output_type": "stream",
     "text": [
      "{}\n"
     ]
    }
   ],
   "source": [
    "#select correct ways to create an empty dictionary\n",
    "\n",
    "student = { \n",
    "  \"name\": \"Emma\", \n",
    "  \"class\": 9, \n",
    "  \"marks\": 75 \n",
    "}\n",
    "\n",
    "student.clear()\n",
    "print(student)"
   ]
  },
  {
   "cell_type": "code",
   "execution_count": null,
   "id": "2d70087e",
   "metadata": {},
   "outputs": [],
   "source": []
  }
 ],
 "metadata": {
  "kernelspec": {
   "display_name": "Python 3 (ipykernel)",
   "language": "python",
   "name": "python3"
  },
  "language_info": {
   "codemirror_mode": {
    "name": "ipython",
    "version": 3
   },
   "file_extension": ".py",
   "mimetype": "text/x-python",
   "name": "python",
   "nbconvert_exporter": "python",
   "pygments_lexer": "ipython3",
   "version": "3.9.7"
  }
 },
 "nbformat": 4,
 "nbformat_minor": 5
}
