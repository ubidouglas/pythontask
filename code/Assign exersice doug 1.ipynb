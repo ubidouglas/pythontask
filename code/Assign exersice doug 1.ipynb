{
 "cells": [
  {
   "cell_type": "code",
   "execution_count": 1,
   "id": "187eb0ea",
   "metadata": {},
   "outputs": [
    {
     "name": "stdout",
     "output_type": "stream",
     "text": [
      "its always darkest before dawn\n"
     ]
    }
   ],
   "source": [
    "#Assign the string below to the variable in the exersice.\n",
    "\"its always darkest before dawn\"\n",
    "\n",
    "str = \"its always darkest before dawn\"\n",
    "\n",
    "print(str)"
   ]
  },
  {
   "cell_type": "code",
   "execution_count": 1,
   "id": "d436b65b",
   "metadata": {},
   "outputs": [
    {
     "name": "stdout",
     "output_type": "stream",
     "text": [
      "tsn\n"
     ]
    }
   ],
   "source": [
    "#By using first, second and last characters of the string, create a new string from the string;\n",
    "\n",
    "str = \"its always darkest befor dawn\"\n",
    "\n",
    "new_string = str[1] + str[2] + str[-1]\n",
    " \n",
    "print(new_string)"
   ]
  },
  {
   "cell_type": "code",
   "execution_count": 2,
   "id": "ca79acb3",
   "metadata": {},
   "outputs": [
    {
     "name": "stdout",
     "output_type": "stream",
     "text": [
      "its always darkest before dawn!\n"
     ]
    }
   ],
   "source": [
    "#from the string \"its always darkest before dawn.\" replace(.) with (!) using the replace ()\n",
    "\n",
    "str = \"its always darkest before dawn.\"\n",
    "\n",
    "new_str =str.replace('.',\"!\")\n",
    "\n",
    "print(new_str)\n"
   ]
  },
  {
   "cell_type": "code",
   "execution_count": 6,
   "id": "004ba70f",
   "metadata": {},
   "outputs": [
    {
     "name": "stdout",
     "output_type": "stream",
     "text": [
      "every strike brings me closer to the next home run\n"
     ]
    }
   ],
   "source": [
    "#Str=\"Every strike brings me closer to the next Home run\" Reassign str so that, all its characters are lowercase.\n",
    "\n",
    "str=\"Every strike brings me closer to the next Home run\"\n",
    "\n",
    "new_low_str = str.lower()\n",
    "\n",
    "print(new_low_str)\n"
   ]
  },
  {
   "cell_type": "code",
   "execution_count": 7,
   "id": "5c7eb980",
   "metadata": {},
   "outputs": [
    {
     "name": "stdout",
     "output_type": "stream",
     "text": [
      "DONT STOP ME NOW\n"
     ]
    }
   ],
   "source": [
    "#Str=\"dont stop me now \". Now make everything in str uppercase\n",
    "\n",
    "str=\"dont stop me now\"\n",
    "\n",
    "upk = str.upper()\n",
    "\n",
    "print(upk)"
   ]
  },
  {
   "cell_type": "code",
   "execution_count": 12,
   "id": "328b4eef",
   "metadata": {},
   "outputs": [
    {
     "name": "stdout",
     "output_type": "stream",
     "text": [
      "11\n"
     ]
    }
   ],
   "source": [
    "#Using.index()method, identify the index of cha\n",
    "\n",
    "str= \"the best revenge is massive success\"\n",
    "\n",
    "net= str.index(\"v\")\n",
    "\n",
    "print(net)"
   ]
  },
  {
   "cell_type": "code",
   "execution_count": 13,
   "id": "b9467caa",
   "metadata": {},
   "outputs": [
    {
     "name": "stdout",
     "output_type": "stream",
     "text": [
      "35\n"
     ]
    }
   ],
   "source": [
    "print(len(\"the best revenge is massive success\"))\n",
    "\n"
   ]
  },
  {
   "cell_type": "code",
   "execution_count": 18,
   "id": "b8fc95b5",
   "metadata": {},
   "outputs": [
    {
     "ename": "NameError",
     "evalue": "name 'isspace' is not defined",
     "output_type": "error",
     "traceback": [
      "\u001b[1;31m---------------------------------------------------------------------------\u001b[0m",
      "\u001b[1;31mNameError\u001b[0m                                 Traceback (most recent call last)",
      "\u001b[1;32m~\\AppData\\Local\\Temp/ipykernel_5940/954983472.py\u001b[0m in \u001b[0;36m<module>\u001b[1;34m\u001b[0m\n\u001b[1;32m----> 1\u001b[1;33m \u001b[0mprint\u001b[0m\u001b[1;33m(\u001b[0m\u001b[0misspace\u001b[0m\u001b[1;33m(\u001b[0m\u001b[1;34m\"  \"\u001b[0m\u001b[1;33m)\u001b[0m\u001b[1;33m)\u001b[0m\u001b[1;33m\u001b[0m\u001b[1;33m\u001b[0m\u001b[0m\n\u001b[0m\u001b[0;32m      2\u001b[0m \u001b[1;33m\u001b[0m\u001b[0m\n",
      "\u001b[1;31mNameError\u001b[0m: name 'isspace' is not defined"
     ]
    }
   ],
   "source": [
    "\n",
    "print(isspace(\"  \"))\n",
    "\n"
   ]
  },
  {
   "cell_type": "code",
   "execution_count": 19,
   "id": "bc942228",
   "metadata": {},
   "outputs": [
    {
     "name": "stdout",
     "output_type": "stream",
     "text": [
      "['shoe', 'jewelery']\n"
     ]
    }
   ],
   "source": [
    "shopping_list = ['bag', 'shoe', 'jewelery', 'clothes'] #this is what we should buy \n",
    "\n",
    "bought = shopping_list[1:3] # we did not buy jewlery and clothes\n",
    "\n",
    "print(bought) #what we bought\n"
   ]
  },
  {
   "cell_type": "code",
   "execution_count": null,
   "id": "a1a31851",
   "metadata": {},
   "outputs": [],
   "source": [
    "# HEIGHT, WEIGHT & BMI CALCULATOR\n",
    "\n",
    "human_input = input(\"Do you want to calculate 'Height', 'Weight' or 'BMI'?: \")\n",
    "\n",
    "# Height calculation\n",
    "if human_input == \"Height\" or human_input == \"height\":\n",
    "    height = int(input(\"Enter your height: \"))\n",
    "    convert_unit_height = input(\"Did you enter your height in 'm' or 'cm'?: \")\n",
    "\n",
    "    if (\n",
    "        convert_unit_height == \"cm\"\n",
    "        or convert_unit_height == \"CM\"\n",
    "        or convert_unit_height == \"Cm\"\n",
    "        or convert_unit_height == \"cM\"\n",
    "    ):\n",
    "        converted_height_cm = height / 100\n",
    "        print(f\"Your height in metres is {converted_height_cm}m.\")\n",
    "\n",
    "    elif convert_unit_height == \"m\" or convert_unit_height == \"M\":\n",
    "        converted_height_m = height * 100\n",
    "        print(f\"Your height in centimetres is {converted_height_m}cm.\")\n",
    "\n",
    "    else:\n",
    "        print(\"Error: Invalid unit.\")\n",
    "\n",
    "# Weight calculation\n",
    "elif human_input == \"Weight\" or human_input == \"weight\":\n",
    "    weight = int(input(\"Enter your weight: \"))\n",
    "    convert_unit_weight = input(\"Did you enter your height in 'kg' or 'g'?: \")\n",
    "\n",
    "    if (\n",
    "        convert_unit_weight == \"kg\"\n",
    "        or convert_unit_weight == \"Kg\"\n",
    "        or convert_unit_weight == \"kG\"\n",
    "        or convert_unit_weight == \"KG\"\n",
    "    ):\n",
    "        converted_weight_kg = weight * 1000\n",
    "        print(f\"Your weight in grams is {converted_weight_kg}g.\")\n",
    "\n",
    "    elif convert_unit_weight == \"g\" or convert_unit_weight == \"G\":\n",
    "        converted_weight_g = weight / 1000\n",
    "        print(f\"Your weight in kilograms is {converted_weight_g}kg.\")\n",
    "\n",
    "    else:\n",
    "        print(\"Error: Invalid unit.\")\n",
    "\n",
    "# BMI calculation\n",
    "elif human_input == \"bmi\" or human_input == \"Bmi\" or human_input == \"BMI\":\n",
    "    height_bmi = int(input(\"Enter your height: \"))\n",
    "    unit_bmi_height = input(\"Did you enter your height in 'cm' or 'm'?: \")\n",
    "\n",
    "    if (\n",
    "        unit_bmi_height == \"cm\"\n",
    "        or unit_bmi_height == \"CM\"\n",
    "        or unit_bmi_height == \"Cm\"\n",
    "        or unit_bmi_height == \"cM\"\n",
    "    ):\n",
    "        bmi_height_in_m = height_bmi / 100\n",
    "\n",
    "    elif unit_bmi_height == \"m\" or unit_bmi_height == \"M\":\n",
    "        bmi_height_in_m = height_bmi\n",
    "\n",
    "    else:\n",
    "        print(\"Error: Invalid unit.\")\n",
    "\n",
    "    weight_bmi = int(input(\"Enter your weight: \"))\n",
    "    unit_bmi_weight = input(\"Did you enter your weight in 'g' or 'kg'?: \")\n",
    "\n",
    "    if (\n",
    "        unit_bmi_weight == \"kg\"\n",
    "        or unit_bmi_weight == \"Kg\"\n",
    "        or unit_bmi_weight == \"kG\"\n",
    "        or unit_bmi_weight == \"KG\"\n",
    "    ):\n",
    "        bmi_weight_in_kg = weight_bmi\n",
    "\n",
    "    elif unit_bmi_weight == \"g\" or unit_bmi_weight == \"G\":\n",
    "        unit_bmi_weight = weight_bmi / 1000\n",
    "\n",
    "    else:\n",
    "        print(\"Error: Invalid unit.\")\n",
    "\n",
    "    calculated_bmi = bmi_weight_in_kg / (bmi_height_in_m ** 2)\n",
    "\n",
    "    if calculated_bmi < 18.5:\n",
    "        print(f\"Your BMI is {calculated_bmi}. You are underweight.\")\n",
    "\n",
    "    elif calculated_bmi >= 18.5 and calculated_bmi <= 24.9:\n",
    "        print(f\"Your BMI is {calculated_bmi}. You are having a normal weight.\")\n",
    "\n",
    "    elif calculated_bmi >= 25.0 and calculated_bmi <= 29.9:\n",
    "        print(f\"Your BMI is {calculated_bmi}. You are overweight.\")\n",
    "\n",
    "    elif calculated_bmi >= 30.0 and calculated_bmi <= 34.9:\n",
    "        print(f\"Your BMI is {calculated_bmi}. You are having a obesity class I.\")\n",
    "\n",
    "    elif calculated_bmi >= 35.0 and calculated_bmi <= 39.9:\n",
    "        print(f\"Your BMI is {calculated_bmi}. You are having a obesity class II.\")\n",
    "\n",
    "    elif calculated_bmi > 40:\n",
    "        print(f\"Your BMI is {calculated_bmi}. You are having obesity class III.\")\n",
    "\n",
    "    else:\n",
    "        print(\"Error: Cannot calculate BMI.\")\n",
    "\n",
    "else:\n",
    "    print(\"Error: Invalid input\")\n",
    "\n",
    "print(\"Thank you for using 'HEIGHT, WEIGHT & BMI CALCULATOR'!\")"
   ]
  },
  {
   "cell_type": "code",
   "execution_count": 27,
   "id": "095feeed",
   "metadata": {},
   "outputs": [
    {
     "name": "stdout",
     "output_type": "stream",
     "text": [
      "[1, 1, 1, 2, 3, 4, 13, 34]\n"
     ]
    }
   ],
   "source": [
    "list = [1,1,2,3,13,1,4,34]\n",
    "\n",
    "list.sort()\n",
    "\n",
    "print(list)"
   ]
  },
  {
   "cell_type": "code",
   "execution_count": 25,
   "id": "8ec1c2d9",
   "metadata": {},
   "outputs": [
    {
     "name": "stdout",
     "output_type": "stream",
     "text": [
      "False\n"
     ]
    }
   ],
   "source": [
    "letters = [\"a\",\"b\",\"c\",\"d\",\"e\",\"f\",\"g\"]\n",
    "\n",
    "print(\"h\" in letters)"
   ]
  },
  {
   "cell_type": "code",
   "execution_count": 26,
   "id": "2d1f9836",
   "metadata": {},
   "outputs": [
    {
     "name": "stdout",
     "output_type": "stream",
     "text": [
      "3\n"
     ]
    }
   ],
   "source": [
    "letters = [\"a\",\"b\",\"c\",\"d\",\"e\",\"f\",\"g\",\"a\",\"f\",\"a\"]\n",
    "\n",
    "print(letters.count(\"a\"))"
   ]
  },
  {
   "cell_type": "code",
   "execution_count": null,
   "id": "56585918",
   "metadata": {},
   "outputs": [],
   "source": [
    "#COPY THE CODE BELOW;\n",
    "#AND ADD COMMENTS WHERE (IN THE LINE)  YOU UNDERSTAND WHAT THE CODER IS DOING.\n",
    "\n",
    "# -*- coding: utf-8 -*-\n",
    "import time\n",
    "from calendar import isleap\n",
    "\n",
    "# judge the leap year\n",
    "def judge_leap_year(year):\n",
    "    if isleap(year):\n",
    "        return True\n",
    "    else:\n",
    "        return False\n",
    "\n",
    "\n",
    "# returns the number of days in each month\n",
    "def month_days(month, leap_year):\n",
    "    if month in [1, 3, 5, 7, 8, 10, 12]:\n",
    "        return 31\n",
    "    elif month in [4, 6, 9, 11]:\n",
    "        return 30\n",
    "    elif month == 2 and leap_year:\n",
    "        return 29\n",
    "    elif month == 2 and (not leap_year):\n",
    "        return 28\n",
    "\n",
    "\n",
    "name = input(\"input your name: \") #collecting user name and age\n",
    "age = input(\"input your age: \")\n",
    "localtime = time.localtime(time.time())\n",
    "\n",
    "year = int(age)\n",
    "month = year * 12 + localtime.tm_mon #converting tp interger\n",
    "day = 0\n",
    "\n",
    "begin_year = int(localtime.tm_year) - year #calculate begin year\n",
    "end_year = begin_year + year\n",
    "\n",
    "# calculate the days\n",
    "for y in range(begin_year, end_year):\n",
    "    if (judge_leap_year(y)):\n",
    "        day = day + 366\n",
    "    else:\n",
    "        day = day + 365\n",
    "\n",
    "leap_year = judge_leap_year(localtime.tm_year) # calculate the leap year\n",
    "for m in range(1, localtime.tm_mon):\n",
    "    day = day + month_days(m, leap_year)\n",
    "\n",
    "day = day + localtime.tm_mday\n",
    "print(\"%s's age is %d years or \" % (name, year), end=\"\") # print thde result\n",
    "print(\"%d months or %d days\" % (month, day))\n",
    "\n"
   ]
  },
  {
   "cell_type": "code",
   "execution_count": null,
   "id": "e0b858bf",
   "metadata": {},
   "outputs": [],
   "source": [
    "\n"
   ]
  },
  {
   "cell_type": "code",
   "execution_count": null,
   "id": "73e88cea",
   "metadata": {},
   "outputs": [],
   "source": []
  },
  {
   "cell_type": "code",
   "execution_count": null,
   "id": "7b9f13b0",
   "metadata": {},
   "outputs": [],
   "source": []
  }
 ],
 "metadata": {
  "kernelspec": {
   "display_name": "Python 3 (ipykernel)",
   "language": "python",
   "name": "python3"
  },
  "language_info": {
   "codemirror_mode": {
    "name": "ipython",
    "version": 3
   },
   "file_extension": ".py",
   "mimetype": "text/x-python",
   "name": "python",
   "nbconvert_exporter": "python",
   "pygments_lexer": "ipython3",
   "version": "3.9.7"
  }
 },
 "nbformat": 4,
 "nbformat_minor": 5
}
